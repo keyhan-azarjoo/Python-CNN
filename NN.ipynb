{
 "cells": [
  {
   "cell_type": "markdown",
   "id": "53d1e16e-2762-4e5a-9a24-67efe0d45573",
   "metadata": {},
   "source": [
    "NN\n",
    "\n",
    "From\n",
    "\n",
    "https://pytorch.org/tutorials/beginner/basics/quickstart_tutorial.html"
   ]
  },
  {
   "cell_type": "code",
   "execution_count": 1,
   "id": "dff63aaf-2cf8-4e76-a61d-102ccece1214",
   "metadata": {},
   "outputs": [],
   "source": [
    "#!pip install torch\n",
    "#!pip install torchvision"
   ]
  },
  {
   "cell_type": "code",
   "execution_count": 2,
   "id": "6e3da20d-9a85-4d11-8aea-433115f5b933",
   "metadata": {},
   "outputs": [],
   "source": [
    "import torch\n",
    "from torch import nn\n",
    "from torch.utils.data import DataLoader\n",
    "from torchvision import datasets\n",
    "from torchvision.transforms import ToTensor"
   ]
  },
  {
   "cell_type": "code",
   "execution_count": 4,
   "id": "ce083c70-8e37-4f7d-b1da-d087ed6cbb59",
   "metadata": {},
   "outputs": [],
   "source": [
    "# Download training data from open datasets.\n",
    "training_data = datasets.FashionMNIST(\n",
    "    root=\"data\",\n",
    "    train=True,\n",
    "    download=True,\n",
    "    transform=ToTensor(),\n",
    ")"
   ]
  },
  {
   "cell_type": "code",
   "execution_count": 5,
   "id": "9e43337f-1752-4d6d-9ddd-645751f0759d",
   "metadata": {},
   "outputs": [
    {
     "data": {
      "text/plain": [
       "Dataset FashionMNIST\n",
       "    Number of datapoints: 60000\n",
       "    Root location: data\n",
       "    Split: Train\n",
       "    StandardTransform\n",
       "Transform: ToTensor()"
      ]
     },
     "execution_count": 5,
     "metadata": {},
     "output_type": "execute_result"
    }
   ],
   "source": [
    "training_data"
   ]
  },
  {
   "cell_type": "code",
   "execution_count": 6,
   "id": "2fdd911b-3d0c-4e9a-821f-ac0e6a57fcf3",
   "metadata": {},
   "outputs": [],
   "source": [
    "# Download test data from open datasets.\n",
    "test_data = datasets.FashionMNIST(\n",
    "    root=\"data\",\n",
    "    train=False,\n",
    "    download=True,\n",
    "    transform=ToTensor(),\n",
    ")"
   ]
  },
  {
   "cell_type": "code",
   "execution_count": 7,
   "id": "b0e977ca-b789-4a8b-bc4d-9b5c5cec0091",
   "metadata": {},
   "outputs": [
    {
     "data": {
      "text/plain": [
       "Dataset FashionMNIST\n",
       "    Number of datapoints: 10000\n",
       "    Root location: data\n",
       "    Split: Test\n",
       "    StandardTransform\n",
       "Transform: ToTensor()"
      ]
     },
     "execution_count": 7,
     "metadata": {},
     "output_type": "execute_result"
    }
   ],
   "source": [
    "test_data"
   ]
  },
  {
   "cell_type": "code",
   "execution_count": 8,
   "id": "59f3ba01-0121-488a-a0a6-6d008b5277e8",
   "metadata": {},
   "outputs": [
    {
     "name": "stdout",
     "output_type": "stream",
     "text": [
      "Shape of X [N, C, H, W]: torch.Size([64, 1, 28, 28])\n",
      "Shape of y: torch.Size([64]) torch.int64\n"
     ]
    }
   ],
   "source": [
    "batch_size = 64\n",
    "\n",
    "# Create data loaders.\n",
    "train_dataloader = DataLoader(training_data, batch_size=batch_size)\n",
    "test_dataloader = DataLoader(test_data, batch_size=batch_size)\n",
    "\n",
    "for X, y in test_dataloader:\n",
    "    print(f\"Shape of X [N, C, H, W]: {X.shape}\")\n",
    "    print(f\"Shape of y: {y.shape} {y.dtype}\")\n",
    "    break"
   ]
  },
  {
   "cell_type": "code",
   "execution_count": 14,
   "id": "96d67f1e-590f-4b98-86cf-1d60f9dfeb14",
   "metadata": {},
   "outputs": [
    {
     "name": "stdout",
     "output_type": "stream",
     "text": [
      "Using cpu device\n"
     ]
    }
   ],
   "source": [
    "# Get cpu or gpu device for training.\n",
    "device = \"cuda\" if torch.cuda.is_available() else \"mps\" if torch.backends.mps.is_available() else \"cpu\"\n",
    "print(f\"Using {device} device\")"
   ]
  },
  {
   "cell_type": "code",
   "execution_count": 15,
   "id": "ce1d468f-bce9-4fa3-84c7-6f8d5bcbfcb2",
   "metadata": {},
   "outputs": [
    {
     "name": "stdout",
     "output_type": "stream",
     "text": [
      "NeuralNetwork(\n",
      "  (flatten): Flatten(start_dim=1, end_dim=-1)\n",
      "  (linear_relu_stack): Sequential(\n",
      "    (0): Linear(in_features=784, out_features=512, bias=True)\n",
      "    (1): ReLU()\n",
      "    (2): Linear(in_features=512, out_features=512, bias=True)\n",
      "    (3): ReLU()\n",
      "    (4): Linear(in_features=512, out_features=10, bias=True)\n",
      "  )\n",
      ")\n"
     ]
    }
   ],
   "source": [
    "# Define model\n",
    "class NeuralNetwork(nn.Module):\n",
    "    def __init__(self):\n",
    "        super().__init__()\n",
    "        self.flatten = nn.Flatten()\n",
    "        self.linear_relu_stack = nn.Sequential(\n",
    "            nn.Linear(28*28, 512),\n",
    "            nn.ReLU(),\n",
    "            nn.Linear(512, 512),\n",
    "            nn.ReLU(),\n",
    "            nn.Linear(512, 10)\n",
    "        )\n",
    "\n",
    "    def forward(self, x):\n",
    "        x = self.flatten(x)\n",
    "        logits = self.linear_relu_stack(x)\n",
    "        return logits\n",
    "\n",
    "model = NeuralNetwork().to(device)\n",
    "print(model)"
   ]
  },
  {
   "cell_type": "code",
   "execution_count": 16,
   "id": "16ff0a68-ff6b-41ea-9bb9-09661c8fa380",
   "metadata": {},
   "outputs": [],
   "source": [
    "loss_fn = nn.CrossEntropyLoss()\n",
    "optimizer = torch.optim.SGD(model.parameters(), lr=1e-3)"
   ]
  },
  {
   "cell_type": "code",
   "execution_count": 19,
   "id": "92e4b1ab-46fd-4b30-9db9-687de2b7388e",
   "metadata": {},
   "outputs": [],
   "source": [
    "def train(dataloader, model, loss_fn, optimizer):\n",
    "    size = len(dataloader.dataset)\n",
    "    model.train()\n",
    "    for batch, (X, y) in enumerate(dataloader):\n",
    "        X, y = X.to(device), y.to(device)\n",
    "\n",
    "        # Compute prediction error\n",
    "        pred = model(X)\n",
    "        loss = loss_fn(pred, y)\n",
    "\n",
    "        # Backpropagation\n",
    "        optimizer.zero_grad()\n",
    "        loss.backward()\n",
    "        optimizer.step()\n",
    "\n",
    "        if batch % 100 == 0:\n",
    "            loss, current = loss.item(), (batch + 1) * len(X)\n",
    "            print(f\"loss: {loss:>7f}  [{current:>5d}/{size:>5d}]\")"
   ]
  },
  {
   "cell_type": "code",
   "execution_count": 20,
   "id": "af6f0db4-6c3e-4cf6-926b-fe2f4c494445",
   "metadata": {},
   "outputs": [],
   "source": [
    "def test(dataloader, model, loss_fn):\n",
    "    size = len(dataloader.dataset)\n",
    "    num_batches = len(dataloader)\n",
    "    model.eval()\n",
    "    test_loss, correct = 0, 0\n",
    "    with torch.no_grad():\n",
    "        for X, y in dataloader:\n",
    "            X, y = X.to(device), y.to(device)\n",
    "            pred = model(X)\n",
    "            test_loss += loss_fn(pred, y).item()\n",
    "            correct += (pred.argmax(1) == y).type(torch.float).sum().item()\n",
    "    test_loss /= num_batches\n",
    "    correct /= size\n",
    "    print(f\"Test Error: \\n Accuracy: {(100*correct):>0.1f}%, Avg loss: {test_loss:>8f} \\n\")"
   ]
  },
  {
   "cell_type": "code",
   "execution_count": 21,
   "id": "3aa894e1-b9a2-42f0-83b3-958bdf3dc775",
   "metadata": {},
   "outputs": [
    {
     "name": "stdout",
     "output_type": "stream",
     "text": [
      "Epoch 1\n",
      "-------------------------------\n",
      "loss: 2.302907  [   64/60000]\n",
      "loss: 2.293895  [ 6464/60000]\n",
      "loss: 2.281152  [12864/60000]\n",
      "loss: 2.271620  [19264/60000]\n",
      "loss: 2.250087  [25664/60000]\n",
      "loss: 2.239671  [32064/60000]\n",
      "loss: 2.235780  [38464/60000]\n",
      "loss: 2.221288  [44864/60000]\n",
      "loss: 2.210670  [51264/60000]\n",
      "loss: 2.174897  [57664/60000]\n",
      "Test Error: \n",
      " Accuracy: 52.3%, Avg loss: 2.174053 \n",
      "\n",
      "Epoch 2\n",
      "-------------------------------\n",
      "loss: 2.185114  [   64/60000]\n",
      "loss: 2.178240  [ 6464/60000]\n",
      "loss: 2.131913  [12864/60000]\n",
      "loss: 2.140440  [19264/60000]\n",
      "loss: 2.089339  [25664/60000]\n",
      "loss: 2.043410  [32064/60000]\n",
      "loss: 2.066991  [38464/60000]\n",
      "loss: 2.008302  [44864/60000]\n",
      "loss: 2.006075  [51264/60000]\n",
      "loss: 1.931219  [57664/60000]\n",
      "Test Error: \n",
      " Accuracy: 57.8%, Avg loss: 1.932657 \n",
      "\n",
      "Epoch 3\n",
      "-------------------------------\n",
      "loss: 1.959990  [   64/60000]\n",
      "loss: 1.941399  [ 6464/60000]\n",
      "loss: 1.836427  [12864/60000]\n",
      "loss: 1.867831  [19264/60000]\n",
      "loss: 1.753415  [25664/60000]\n",
      "loss: 1.699770  [32064/60000]\n",
      "loss: 1.722301  [38464/60000]\n",
      "loss: 1.630132  [44864/60000]\n",
      "loss: 1.646417  [51264/60000]\n",
      "loss: 1.535219  [57664/60000]\n",
      "Test Error: \n",
      " Accuracy: 61.0%, Avg loss: 1.554673 \n",
      "\n",
      "Epoch 4\n",
      "-------------------------------\n",
      "loss: 1.616187  [   64/60000]\n",
      "loss: 1.586821  [ 6464/60000]\n",
      "loss: 1.442464  [12864/60000]\n",
      "loss: 1.505329  [19264/60000]\n",
      "loss: 1.375541  [25664/60000]\n",
      "loss: 1.368735  [32064/60000]\n",
      "loss: 1.378273  [38464/60000]\n",
      "loss: 1.310195  [44864/60000]\n",
      "loss: 1.338944  [51264/60000]\n",
      "loss: 1.233690  [57664/60000]\n",
      "Test Error: \n",
      " Accuracy: 63.6%, Avg loss: 1.264549 \n",
      "\n",
      "Epoch 5\n",
      "-------------------------------\n",
      "loss: 1.343189  [   64/60000]\n",
      "loss: 1.325836  [ 6464/60000]\n",
      "loss: 1.165740  [12864/60000]\n",
      "loss: 1.263007  [19264/60000]\n",
      "loss: 1.131526  [25664/60000]\n",
      "loss: 1.159129  [32064/60000]\n",
      "loss: 1.173756  [38464/60000]\n",
      "loss: 1.119408  [44864/60000]\n",
      "loss: 1.150304  [51264/60000]\n",
      "loss: 1.067254  [57664/60000]\n",
      "Test Error: \n",
      " Accuracy: 65.1%, Avg loss: 1.090509 \n",
      "\n",
      "Done!\n"
     ]
    }
   ],
   "source": [
    "epochs = 5\n",
    "for t in range(epochs):\n",
    "    print(f\"Epoch {t+1}\\n-------------------------------\")\n",
    "    train(train_dataloader, model, loss_fn, optimizer)\n",
    "    test(test_dataloader, model, loss_fn)\n",
    "print(\"Done!\")"
   ]
  },
  {
   "cell_type": "code",
   "execution_count": 23,
   "id": "09061dc5-7d21-41d5-be3a-872b05f22e99",
   "metadata": {},
   "outputs": [
    {
     "name": "stdout",
     "output_type": "stream",
     "text": [
      "Saved PyTorch Model State to model.pth\n"
     ]
    }
   ],
   "source": [
    "torch.save(model.state_dict(), r\"C:\\Users\\HP\\OneDrive - Teesside University\\Uni\\CNN\\Save\\CNNmodel.pth\")\n",
    "print(\"Saved PyTorch Model State to model.pth\")"
   ]
  },
  {
   "cell_type": "code",
   "execution_count": 24,
   "id": "3347ff88-6fd8-4114-b939-a112e8c215f7",
   "metadata": {},
   "outputs": [
    {
     "data": {
      "text/plain": [
       "<All keys matched successfully>"
      ]
     },
     "execution_count": 24,
     "metadata": {},
     "output_type": "execute_result"
    }
   ],
   "source": [
    "model = NeuralNetwork()\n",
    "model.load_state_dict(torch.load(r\"C:\\Users\\HP\\OneDrive - Teesside University\\Uni\\CNN\\Save\\CNNmodel.pth\"))"
   ]
  },
  {
   "cell_type": "code",
   "execution_count": null,
   "id": "1f40d5d3-e7cc-4863-92b9-0614aeee08cb",
   "metadata": {},
   "outputs": [],
   "source": []
  },
  {
   "cell_type": "code",
   "execution_count": 25,
   "id": "e08e4183-40ec-45de-bf06-710942907230",
   "metadata": {},
   "outputs": [],
   "source": [
    "classes = [\n",
    "    \"T-shirt/top\",\n",
    "    \"Trouser\",\n",
    "    \"Pullover\",\n",
    "    \"Dress\",\n",
    "    \"Coat\",\n",
    "    \"Sandal\",\n",
    "    \"Shirt\",\n",
    "    \"Sneaker\",\n",
    "    \"Bag\",\n",
    "    \"Ankle boot\",\n",
    "]"
   ]
  },
  {
   "cell_type": "code",
   "execution_count": 57,
   "id": "b34e4516-46f9-411e-b559-e95c5fe7177a",
   "metadata": {},
   "outputs": [
    {
     "name": "stdout",
     "output_type": "stream",
     "text": [
      "Predicted: \"Sneaker\", Actual: \"Dress\"\n"
     ]
    }
   ],
   "source": [
    "model.eval()\n",
    "x, y = test_data[90][0], test_data[91][1]\n",
    "with torch.no_grad():\n",
    "    pred = model(x)\n",
    "    predicted, actual = classes[pred[0].argmax(0)], classes[y]\n",
    "    print(f'Predicted: \"{predicted}\", Actual: \"{actual}\"')"
   ]
  },
  {
   "cell_type": "code",
   "execution_count": 55,
   "id": "68618c39-111b-4938-a9c9-6ea1397ff0de",
   "metadata": {},
   "outputs": [
    {
     "data": {
      "text/plain": [
       "torch.Size([28, 28])"
      ]
     },
     "execution_count": 55,
     "metadata": {},
     "output_type": "execute_result"
    }
   ],
   "source": [
    "from matplotlib import pyplot as plt\n",
    "a = test_data[91][0].reshape(28,28)\n",
    "a.shape"
   ]
  },
  {
   "cell_type": "code",
   "execution_count": 56,
   "id": "965459d0-1ae0-40b4-85b5-dfa63dbd3cf7",
   "metadata": {},
   "outputs": [
    {
     "data": {
      "image/png": "[encoded data removed]",
      "text/plain": [
       "<Figure size 640x480 with 1 Axes>"
      ]
     },
     "metadata": {},
     "output_type": "display_data"
    }
   ],
   "source": [
    "# Plot the data using imshow with gray colormap\n",
    "plt.imshow(a, cmap='gray')\n",
    "\n",
    "# Display the plot\n",
    "plt.show()"
   ]
  },
  {
   "cell_type": "code",
   "execution_count": 58,
   "id": "dc585018-1cb0-452e-b22a-564507c36272",
   "metadata": {},
   "outputs": [
    {
     "data": {
      "text/plain": [
       "tensor([[[0.0000, 0.0000, 0.0000, 0.0000, 0.0000, 0.0000, 0.0000, 0.0118,\n",
       "          0.0000, 0.0941, 0.2902, 0.0000, 0.0000, 0.0000, 0.0000, 0.0118,\n",
       "          0.0000, 0.0118, 0.3137, 0.1059, 0.0000, 0.0000, 0.0000, 0.0000,\n",
       "          0.0000, 0.0000, 0.0000, 0.0000],\n",
       "         [0.0000, 0.0000, 0.0000, 0.0000, 0.0000, 0.0000, 0.0000, 0.0118,\n",
       "          0.0000, 0.0471, 0.2784, 0.1686, 0.0000, 0.0000, 0.0000, 0.0000,\n",
       "          0.0000, 0.1804, 0.2431, 0.0706, 0.0000, 0.0000, 0.0000, 0.0000,\n",
       "          0.0000, 0.0000, 0.0000, 0.0000],\n",
       "         [0.0000, 0.0000, 0.0000, 0.0000, 0.0000, 0.0000, 0.0000, 0.0000,\n",
       "          0.0000, 0.0118, 0.2314, 0.2039, 0.1059, 0.0000, 0.0000, 0.0000,\n",
       "          0.1216, 0.2039, 0.2157, 0.0000, 0.0000, 0.0000, 0.0000, 0.0000,\n",
       "          0.0000, 0.0000, 0.0000, 0.0000],\n",
       "         [0.0000, 0.0000, 0.0000, 0.0000, 0.0000, 0.0000, 0.0000, 0.0000,\n",
       "          0.0000, 0.0000, 0.2314, 0.1569, 0.2431, 0.1451, 0.0118, 0.0941,\n",
       "          0.1922, 0.1333, 0.2157, 0.0000, 0.0000, 0.0000, 0.0000, 0.0000,\n",
       "          0.0000, 0.0000, 0.0000, 0.0000],\n",
       "         [0.0000, 0.0000, 0.0000, 0.0000, 0.0000, 0.0000, 0.0000, 0.0118,\n",
       "          0.0000, 0.0235, 0.2667, 0.1333, 0.1059, 0.2314, 0.2314, 0.1922,\n",
       "          0.1216, 0.0941, 0.3255, 0.0471, 0.0000, 0.0000, 0.0000, 0.0000,\n",
       "          0.0000, 0.0000, 0.0000, 0.0000],\n",
       "         [0.0000, 0.0000, 0.0000, 0.0000, 0.0000, 0.0000, 0.0000, 0.0000,\n",
       "          0.0000, 0.0824, 0.3412, 0.1333, 0.1451, 0.1569, 0.2039, 0.1451,\n",
       "          0.1059, 0.0706, 0.3412, 0.0235, 0.0000, 0.0000, 0.0000, 0.0000,\n",
       "          0.0000, 0.0000, 0.0000, 0.0000],\n",
       "         [0.0000, 0.0000, 0.0000, 0.0000, 0.0000, 0.0000, 0.0000, 0.0000,\n",
       "          0.0000, 0.0706, 0.3882, 0.2157, 0.2157, 0.1804, 0.2157, 0.2039,\n",
       "          0.1922, 0.2039, 0.3647, 0.0000, 0.0000, 0.0000, 0.0000, 0.0000,\n",
       "          0.0000, 0.0000, 0.0000, 0.0000],\n",
       "         [0.0000, 0.0000, 0.0000, 0.0000, 0.0000, 0.0000, 0.0000, 0.0000,\n",
       "          0.0000, 0.0000, 0.4353, 0.3137, 0.2314, 0.1804, 0.2157, 0.2157,\n",
       "          0.2039, 0.3020, 0.3137, 0.0000, 0.0000, 0.0000, 0.0000, 0.0000,\n",
       "          0.0000, 0.0000, 0.0000, 0.0000],\n",
       "         [0.0000, 0.0000, 0.0000, 0.0000, 0.0000, 0.0000, 0.0000, 0.0000,\n",
       "          0.0000, 0.0000, 0.3765, 0.3137, 0.2431, 0.1922, 0.1804, 0.2039,\n",
       "          0.1922, 0.2431, 0.2549, 0.0000, 0.0000, 0.0000, 0.0000, 0.0000,\n",
       "          0.0000, 0.0000, 0.0000, 0.0000],\n",
       "         [0.0000, 0.0000, 0.0000, 0.0000, 0.0000, 0.0000, 0.0000, 0.0000,\n",
       "          0.0000, 0.0000, 0.3255, 0.2902, 0.2157, 0.1804, 0.1804, 0.1922,\n",
       "          0.1686, 0.2667, 0.2431, 0.0000, 0.0000, 0.0000, 0.0000, 0.0000,\n",
       "          0.0000, 0.0000, 0.0000, 0.0000],\n",
       "         [0.0000, 0.0000, 0.0000, 0.0000, 0.0000, 0.0000, 0.0000, 0.0000,\n",
       "          0.0000, 0.0000, 0.2549, 0.2549, 0.2157, 0.1569, 0.1804, 0.1922,\n",
       "          0.1804, 0.2902, 0.2157, 0.0000, 0.0000, 0.0000, 0.0000, 0.0000,\n",
       "          0.0000, 0.0000, 0.0000, 0.0000],\n",
       "         [0.0000, 0.0000, 0.0000, 0.0000, 0.0000, 0.0000, 0.0000, 0.0000,\n",
       "          0.0000, 0.0000, 0.2431, 0.2431, 0.2667, 0.1804, 0.1804, 0.1804,\n",
       "          0.1804, 0.2431, 0.1569, 0.0000, 0.0000, 0.0000, 0.0000, 0.0000,\n",
       "          0.0000, 0.0000, 0.0000, 0.0000],\n",
       "         [0.0000, 0.0000, 0.0000, 0.0000, 0.0000, 0.0000, 0.0000, 0.0000,\n",
       "          0.0000, 0.0118, 0.2784, 0.2784, 0.2314, 0.1804, 0.1686, 0.2667,\n",
       "          0.2039, 0.1686, 0.2039, 0.0000, 0.0000, 0.0000, 0.0000, 0.0000,\n",
       "          0.0000, 0.0000, 0.0000, 0.0000],\n",
       "         [0.0000, 0.0000, 0.0000, 0.0000, 0.0000, 0.0000, 0.0000, 0.0000,\n",
       "          0.0000, 0.2157, 0.2431, 0.3255, 0.2549, 0.2314, 0.2039, 0.3412,\n",
       "          0.2549, 0.1451, 0.2431, 0.0941, 0.0000, 0.0000, 0.0000, 0.0000,\n",
       "          0.0000, 0.0000, 0.0000, 0.0000],\n",
       "         [0.0000, 0.0000, 0.0000, 0.0000, 0.0000, 0.0000, 0.0000, 0.0000,\n",
       "          0.0000, 0.3137, 0.1216, 0.4745, 0.2157, 0.2549, 0.1451, 0.4980,\n",
       "          0.3137, 0.1569, 0.2157, 0.2314, 0.0000, 0.0000, 0.0000, 0.0000,\n",
       "          0.0000, 0.0000, 0.0000, 0.0000],\n",
       "         [0.0000, 0.0000, 0.0000, 0.0000, 0.0000, 0.0000, 0.0000, 0.0000,\n",
       "          0.0588, 0.3020, 0.1804, 0.6078, 0.1922, 0.2157, 0.1333, 0.6196,\n",
       "          0.3137, 0.1686, 0.2314, 0.2902, 0.0000, 0.0000, 0.0000, 0.0000,\n",
       "          0.0000, 0.0000, 0.0000, 0.0000],\n",
       "         [0.0000, 0.0000, 0.0000, 0.0000, 0.0000, 0.0000, 0.0000, 0.0000,\n",
       "          0.1216, 0.2784, 0.1922, 0.6431, 0.1451, 0.2549, 0.1059, 0.6549,\n",
       "          0.3255, 0.1686, 0.2157, 0.3255, 0.0471, 0.0000, 0.0000, 0.0000,\n",
       "          0.0000, 0.0000, 0.0000, 0.0000],\n",
       "         [0.0000, 0.0000, 0.0000, 0.0000, 0.0000, 0.0000, 0.0000, 0.0000,\n",
       "          0.2667, 0.2667, 0.2431, 0.6941, 0.1059, 0.2667, 0.1216, 0.6941,\n",
       "          0.3137, 0.1569, 0.2667, 0.3137, 0.1569, 0.0000, 0.0000, 0.0000,\n",
       "          0.0000, 0.0000, 0.0000, 0.0000],\n",
       "         [0.0000, 0.0000, 0.0000, 0.0000, 0.0000, 0.0000, 0.0000, 0.0000,\n",
       "          0.3412, 0.2157, 0.3020, 0.7059, 0.1451, 0.2784, 0.1216, 0.7647,\n",
       "          0.3529, 0.1569, 0.2784, 0.3137, 0.2314, 0.0000, 0.0000, 0.0000,\n",
       "          0.0000, 0.0000, 0.0000, 0.0000],\n",
       "         [0.0000, 0.0000, 0.0000, 0.0000, 0.0000, 0.0000, 0.0000, 0.0000,\n",
       "          0.4118, 0.2157, 0.3137, 0.7294, 0.1333, 0.2784, 0.1216, 0.8157,\n",
       "          0.3765, 0.1216, 0.2314, 0.3412, 0.2784, 0.0000, 0.0000, 0.0000,\n",
       "          0.0000, 0.0000, 0.0000, 0.0000],\n",
       "         [0.0000, 0.0000, 0.0000, 0.0000, 0.0000, 0.0000, 0.0000, 0.0000,\n",
       "          0.4980, 0.1804, 0.3255, 0.7529, 0.1059, 0.2902, 0.1216, 0.9020,\n",
       "          0.3529, 0.0706, 0.2314, 0.3255, 0.3137, 0.0000, 0.0000, 0.0000,\n",
       "          0.0000, 0.0000, 0.0000, 0.0000],\n",
       "         [0.0000, 0.0000, 0.0000, 0.0000, 0.0000, 0.0000, 0.0000, 0.0353,\n",
       "          0.4980, 0.1451, 0.3765, 0.7412, 0.1059, 0.3255, 0.1059, 0.9020,\n",
       "          0.4235, 0.0588, 0.2431, 0.3255, 0.3529, 0.0000, 0.0000, 0.0000,\n",
       "          0.0000, 0.0000, 0.0000, 0.0000],\n",
       "         [0.0000, 0.0000, 0.0000, 0.0000, 0.0000, 0.0000, 0.0000, 0.1059,\n",
       "          0.5216, 0.1059, 0.4118, 0.7804, 0.1333, 0.2902, 0.1216, 0.7647,\n",
       "          0.4510, 0.0588, 0.2784, 0.3412, 0.3882, 0.0353, 0.0000, 0.0000,\n",
       "          0.0000, 0.0000, 0.0000, 0.0000],\n",
       "         [0.0000, 0.0000, 0.0000, 0.0000, 0.0000, 0.0000, 0.0000, 0.1804,\n",
       "          0.5098, 0.0824, 0.4627, 0.7176, 0.1333, 0.2902, 0.0941, 0.8157,\n",
       "          0.4627, 0.0588, 0.2549, 0.3765, 0.3765, 0.0706, 0.0000, 0.0000,\n",
       "          0.0000, 0.0000, 0.0000, 0.0000],\n",
       "         [0.0000, 0.0000, 0.0000, 0.0000, 0.0000, 0.0000, 0.0000, 0.2549,\n",
       "          0.4980, 0.0824, 0.4745, 0.6706, 0.1333, 0.2902, 0.0941, 0.8392,\n",
       "          0.4863, 0.0706, 0.2314, 0.4118, 0.3647, 0.1569, 0.0000, 0.0000,\n",
       "          0.0000, 0.0000, 0.0000, 0.0000],\n",
       "         [0.0000, 0.0000, 0.0000, 0.0000, 0.0000, 0.0000, 0.0000, 0.2549,\n",
       "          0.4745, 0.0471, 0.5098, 0.6314, 0.1569, 0.2902, 0.1059, 0.8510,\n",
       "          0.4627, 0.0471, 0.2157, 0.4863, 0.4000, 0.1804, 0.0000, 0.0000,\n",
       "          0.0000, 0.0000, 0.0000, 0.0000],\n",
       "         [0.0000, 0.0000, 0.0000, 0.0000, 0.0000, 0.0000, 0.0000, 0.4000,\n",
       "          0.7176, 0.1059, 0.6431, 0.6824, 0.1569, 0.3529, 0.0941, 1.0000,\n",
       "          0.6941, 0.0824, 0.3137, 0.5451, 0.4627, 0.2039, 0.0000, 0.0000,\n",
       "          0.0000, 0.0000, 0.0000, 0.0000],\n",
       "         [0.0000, 0.0000, 0.0000, 0.0000, 0.0000, 0.0000, 0.0000, 0.1333,\n",
       "          0.3255, 0.0588, 0.4980, 0.4118, 0.1569, 0.3255, 0.1686, 0.5333,\n",
       "          0.2667, 0.0588, 0.0941, 0.2157, 0.2667, 0.1569, 0.0000, 0.0000,\n",
       "          0.0000, 0.0000, 0.0000, 0.0000]]])"
      ]
     },
     "execution_count": 58,
     "metadata": {},
     "output_type": "execute_result"
    }
   ],
   "source": [
    "test_data[91][0]"
   ]
  },
  {
   "cell_type": "code",
   "execution_count": null,
   "id": "9bfc5c02-ead3-4c73-84cc-d1c46f08024a",
   "metadata": {},
   "outputs": [],
   "source": []
  }
 ],
 "metadata": {
  "kernelspec": {
   "display_name": "Python 3 (ipykernel)",
   "language": "python",
   "name": "python3"
  },
  "language_info": {
   "codemirror_mode": {
    "name": "ipython",
    "version": 3
   },
   "file_extension": ".py",
   "mimetype": "text/x-python",
   "name": "python",
   "nbconvert_exporter": "python",
   "pygments_lexer": "ipython3",
   "version": "3.9.7"
  }
 },
 "nbformat": 4,
 "nbformat_minor": 5
}
